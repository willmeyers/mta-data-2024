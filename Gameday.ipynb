{
 "cells": [
  {
   "cell_type": "code",
   "execution_count": 1,
   "id": "d2677d7b-fa0c-4f15-a306-3afabdfa25d7",
   "metadata": {},
   "outputs": [],
   "source": [
    "import pandas as pd"
   ]
  },
  {
   "cell_type": "code",
   "execution_count": 75,
   "id": "0f6a32d0-d35d-40a2-bfd9-a4bd2c08f166",
   "metadata": {},
   "outputs": [],
   "source": [
    "nyy = pd.read_csv(\"nyy_schedule.csv\")\n",
    "nym = pd.read_csv(\"nym_schedule.csv\")\n",
    "nyk = pd.read_csv(\"knicks_schedule.csv\")\n",
    "nyn = pd.read_csv(\"nets_schedule.csv\")\n",
    "nyl = pd.read_csv(\"liberty_schedule.csv\")\n",
    "nyr = pd.read_csv(\"rangers_schedule.csv\")"
   ]
  },
  {
   "cell_type": "code",
   "execution_count": 76,
   "id": "57bf8c97-44ce-47ff-ae94-04a467e7cb03",
   "metadata": {},
   "outputs": [],
   "source": [
    "nyy[\"at\"] = nyy[\"Unnamed: 4\"]\n",
    "nym[\"at\"] = nym[\"Unnamed: 4\"]\n",
    "nyk[\"at\"] = nyk[\"Unnamed: 5\"]\n",
    "nyn[\"at\"] = nyn[\"Unnamed: 5\"]\n",
    "nyl[\"at\"] = nyl[\"Unnamed: 2\"]\n",
    "nyr[\"at\"] = nyr[\"Unnamed: 2\"]"
   ]
  },
  {
   "cell_type": "code",
   "execution_count": 77,
   "id": "93ed1b0f-57e0-42a4-9dfe-b99d60cba6bf",
   "metadata": {},
   "outputs": [],
   "source": [
    "nyy_home = nyy[nyy[\"at\"].isna()]\n",
    "nym_home = nym[nym[\"at\"].isna()]\n",
    "nyk_home = nyk[nyk[\"at\"].isna()]\n",
    "nyn_home = nyn[nyn[\"at\"].isna()]\n",
    "nyl_home = nyl[nyl[\"at\"].isna()]\n",
    "nyr_home = nyr[nyr[\"at\"].isna()]"
   ]
  },
  {
   "cell_type": "code",
   "execution_count": 78,
   "id": "f7b5ceb2-d1bf-4f38-a843-7d701f188cf2",
   "metadata": {},
   "outputs": [
    {
     "name": "stderr",
     "output_type": "stream",
     "text": [
      "/var/folders/2z/znp5mbz57px8r00d9z3br30w0000gn/T/ipykernel_28962/2796194902.py:6: SettingWithCopyWarning: \n",
      "A value is trying to be set on a copy of a slice from a DataFrame.\n",
      "Try using .loc[row_indexer,col_indexer] = value instead\n",
      "\n",
      "See the caveats in the documentation: https://pandas.pydata.org/pandas-docs/stable/user_guide/indexing.html#returning-a-view-versus-a-copy\n",
      "  nyy_home[\"Date\"] = nyy_home[\"Date\"].apply(parse_mlb_date)\n",
      "/var/folders/2z/znp5mbz57px8r00d9z3br30w0000gn/T/ipykernel_28962/2796194902.py:7: SettingWithCopyWarning: \n",
      "A value is trying to be set on a copy of a slice from a DataFrame.\n",
      "Try using .loc[row_indexer,col_indexer] = value instead\n",
      "\n",
      "See the caveats in the documentation: https://pandas.pydata.org/pandas-docs/stable/user_guide/indexing.html#returning-a-view-versus-a-copy\n",
      "  nym_home[\"Date\"] = nym_home[\"Date\"].apply(parse_mlb_date)\n",
      "/var/folders/2z/znp5mbz57px8r00d9z3br30w0000gn/T/ipykernel_28962/2796194902.py:8: SettingWithCopyWarning: \n",
      "A value is trying to be set on a copy of a slice from a DataFrame.\n",
      "Try using .loc[row_indexer,col_indexer] = value instead\n",
      "\n",
      "See the caveats in the documentation: https://pandas.pydata.org/pandas-docs/stable/user_guide/indexing.html#returning-a-view-versus-a-copy\n",
      "  nyl_home[\"Date\"] = pd.to_datetime(nyl_home[\"Date\"], format=\"%a %b %d %Y\")\n",
      "/var/folders/2z/znp5mbz57px8r00d9z3br30w0000gn/T/ipykernel_28962/2796194902.py:9: SettingWithCopyWarning: \n",
      "A value is trying to be set on a copy of a slice from a DataFrame.\n",
      "Try using .loc[row_indexer,col_indexer] = value instead\n",
      "\n",
      "See the caveats in the documentation: https://pandas.pydata.org/pandas-docs/stable/user_guide/indexing.html#returning-a-view-versus-a-copy\n",
      "  nyk_home[\"Date\"] = pd.to_datetime(nyk_home[\"Date\"], format=\"%a %b %d %Y\")\n",
      "/var/folders/2z/znp5mbz57px8r00d9z3br30w0000gn/T/ipykernel_28962/2796194902.py:10: SettingWithCopyWarning: \n",
      "A value is trying to be set on a copy of a slice from a DataFrame.\n",
      "Try using .loc[row_indexer,col_indexer] = value instead\n",
      "\n",
      "See the caveats in the documentation: https://pandas.pydata.org/pandas-docs/stable/user_guide/indexing.html#returning-a-view-versus-a-copy\n",
      "  nyn_home[\"Date\"] = pd.to_datetime(nyn_home[\"Date\"], format=\"%a %b %d %Y\")\n",
      "/var/folders/2z/znp5mbz57px8r00d9z3br30w0000gn/T/ipykernel_28962/2796194902.py:11: SettingWithCopyWarning: \n",
      "A value is trying to be set on a copy of a slice from a DataFrame.\n",
      "Try using .loc[row_indexer,col_indexer] = value instead\n",
      "\n",
      "See the caveats in the documentation: https://pandas.pydata.org/pandas-docs/stable/user_guide/indexing.html#returning-a-view-versus-a-copy\n",
      "  nyr_home[\"Date\"] = pd.to_datetime(nyr_home[\"Date\"], format=\"%Y-%m-%d\")\n"
     ]
    }
   ],
   "source": [
    "def parse_mlb_date(date_str):\n",
    "    cleaned_str = date_str.split(' (')[0]\n",
    "    parsed_date = pd.to_datetime(cleaned_str + ' 2024', format=\"%A %b %d %Y\", errors='coerce')\n",
    "    return parsed_date\n",
    "\n",
    "nyy_home[\"Date\"] = nyy_home[\"Date\"].apply(parse_mlb_date)\n",
    "nym_home[\"Date\"] = nym_home[\"Date\"].apply(parse_mlb_date)\n",
    "nyl_home[\"Date\"] = pd.to_datetime(nyl_home[\"Date\"], format=\"%a %b %d %Y\")\n",
    "nyk_home[\"Date\"] = pd.to_datetime(nyk_home[\"Date\"], format=\"%a %b %d %Y\")\n",
    "nyn_home[\"Date\"] = pd.to_datetime(nyn_home[\"Date\"], format=\"%a %b %d %Y\")\n",
    "nyr_home[\"Date\"] = pd.to_datetime(nyr_home[\"Date\"], format=\"%Y-%m-%d\")"
   ]
  },
  {
   "cell_type": "code",
   "execution_count": 79,
   "id": "f2dd9b71-db8b-4691-bcfe-7c7fdb2b378b",
   "metadata": {},
   "outputs": [],
   "source": [
    "nyy_home = nyy_home[[\"Date\", \"Opp\", \"W/L\"]]\n",
    "nym_home = nym_home[[\"Date\", \"Opp\", \"W/L\"]]\n",
    "nyl_home = nyl_home[[\"Date\", \"Opponent\", \"Unnamed: 4\"]]\n",
    "nyk_home = nyk_home[[\"Date\", \"Opponent\", \"Unnamed: 7\"]]\n",
    "nyn_home = nyn_home[[\"Date\", \"Opponent\", \"Unnamed: 7\"]]\n",
    "nyr_home = nyr_home[[\"Date\", \"Opponent\", \"Unnamed: 6\"]]\n",
    "\n",
    "nyy_home[\"Team\"] = \"NYY\"\n",
    "nym_home[\"Team\"] = \"NYM\"\n",
    "nyl_home[\"Team\"] = \"NYL\"\n",
    "nyk_home[\"Team\"] = \"NYK\"\n",
    "nyn_home[\"Team\"] = \"BN\"\n",
    "nyr_home[\"Team\"] = \"NYR\"\n",
    "\n",
    "nyy_home[\"Opponent\"] = nyy_home[\"Opp\"]\n",
    "nym_home[\"Opponent\"] = nym_home[\"Opp\"]\n",
    "nyl_home[\"W/L\"] = nyl_home[\"Unnamed: 4\"]\n",
    "nyk_home[\"W/L\"] = nyk_home[\"Unnamed: 7\"]\n",
    "nyn_home[\"W/L\"] = nyn_home[\"Unnamed: 7\"]\n",
    "nyr_home[\"W/L\"] = nyr_home[\"Unnamed: 6\"]\n",
    "\n",
    "del nyy_home[\"Opp\"]\n",
    "del nym_home[\"Opp\"]\n",
    "del nyl_home[\"Unnamed: 4\"]\n",
    "del nyk_home[\"Unnamed: 7\"]\n",
    "del nyn_home[\"Unnamed: 7\"]\n",
    "del nyr_home[\"Unnamed: 6\"]"
   ]
  },
  {
   "cell_type": "code",
   "execution_count": 81,
   "id": "4aa15c4c-0eda-44e5-9001-b68ac0fc8cb5",
   "metadata": {},
   "outputs": [],
   "source": [
    "ny_home_games = pd.concat([nyy_home, nym_home, nyl_home, nyk_home, nyn_home, nyr_home])"
   ]
  },
  {
   "cell_type": "code",
   "execution_count": 82,
   "id": "fbdb2bde-0f33-4c96-8069-0494e4e81198",
   "metadata": {},
   "outputs": [
    {
     "data": {
      "text/html": [
       "<div>\n",
       "<style scoped>\n",
       "    .dataframe tbody tr th:only-of-type {\n",
       "        vertical-align: middle;\n",
       "    }\n",
       "\n",
       "    .dataframe tbody tr th {\n",
       "        vertical-align: top;\n",
       "    }\n",
       "\n",
       "    .dataframe thead th {\n",
       "        text-align: right;\n",
       "    }\n",
       "</style>\n",
       "<table border=\"1\" class=\"dataframe\">\n",
       "  <thead>\n",
       "    <tr style=\"text-align: right;\">\n",
       "      <th></th>\n",
       "      <th>Date</th>\n",
       "      <th>W/L</th>\n",
       "      <th>Team</th>\n",
       "      <th>Opponent</th>\n",
       "    </tr>\n",
       "  </thead>\n",
       "  <tbody>\n",
       "    <tr>\n",
       "      <th>7</th>\n",
       "      <td>2024-04-05</td>\n",
       "      <td>L</td>\n",
       "      <td>NYY</td>\n",
       "      <td>TOR</td>\n",
       "    </tr>\n",
       "    <tr>\n",
       "      <th>8</th>\n",
       "      <td>2024-04-06</td>\n",
       "      <td>W</td>\n",
       "      <td>NYY</td>\n",
       "      <td>TOR</td>\n",
       "    </tr>\n",
       "    <tr>\n",
       "      <th>9</th>\n",
       "      <td>2024-04-07</td>\n",
       "      <td>W</td>\n",
       "      <td>NYY</td>\n",
       "      <td>TOR</td>\n",
       "    </tr>\n",
       "    <tr>\n",
       "      <th>10</th>\n",
       "      <td>2024-04-08</td>\n",
       "      <td>W</td>\n",
       "      <td>NYY</td>\n",
       "      <td>MIA</td>\n",
       "    </tr>\n",
       "    <tr>\n",
       "      <th>11</th>\n",
       "      <td>2024-04-09</td>\n",
       "      <td>W</td>\n",
       "      <td>NYY</td>\n",
       "      <td>MIA</td>\n",
       "    </tr>\n",
       "    <tr>\n",
       "      <th>...</th>\n",
       "      <td>...</td>\n",
       "      <td>...</td>\n",
       "      <td>...</td>\n",
       "      <td>...</td>\n",
       "    </tr>\n",
       "    <tr>\n",
       "      <th>75</th>\n",
       "      <td>2024-04-03</td>\n",
       "      <td>W</td>\n",
       "      <td>NYR</td>\n",
       "      <td>New Jersey Devils</td>\n",
       "    </tr>\n",
       "    <tr>\n",
       "      <th>77</th>\n",
       "      <td>2024-04-07</td>\n",
       "      <td>W</td>\n",
       "      <td>NYR</td>\n",
       "      <td>Montreal Canadiens</td>\n",
       "    </tr>\n",
       "    <tr>\n",
       "      <th>79</th>\n",
       "      <td>2024-04-11</td>\n",
       "      <td>L</td>\n",
       "      <td>NYR</td>\n",
       "      <td>Philadelphia Flyers</td>\n",
       "    </tr>\n",
       "    <tr>\n",
       "      <th>80</th>\n",
       "      <td>2024-04-13</td>\n",
       "      <td>W</td>\n",
       "      <td>NYR</td>\n",
       "      <td>New York Islanders</td>\n",
       "    </tr>\n",
       "    <tr>\n",
       "      <th>81</th>\n",
       "      <td>2024-04-15</td>\n",
       "      <td>W</td>\n",
       "      <td>NYR</td>\n",
       "      <td>Ottawa Senators</td>\n",
       "    </tr>\n",
       "  </tbody>\n",
       "</table>\n",
       "<p>307 rows × 4 columns</p>\n",
       "</div>"
      ],
      "text/plain": [
       "         Date W/L Team             Opponent\n",
       "7  2024-04-05   L  NYY                  TOR\n",
       "8  2024-04-06   W  NYY                  TOR\n",
       "9  2024-04-07   W  NYY                  TOR\n",
       "10 2024-04-08   W  NYY                  MIA\n",
       "11 2024-04-09   W  NYY                  MIA\n",
       "..        ...  ..  ...                  ...\n",
       "75 2024-04-03   W  NYR    New Jersey Devils\n",
       "77 2024-04-07   W  NYR   Montreal Canadiens\n",
       "79 2024-04-11   L  NYR  Philadelphia Flyers\n",
       "80 2024-04-13   W  NYR   New York Islanders\n",
       "81 2024-04-15   W  NYR      Ottawa Senators\n",
       "\n",
       "[307 rows x 4 columns]"
      ]
     },
     "execution_count": 82,
     "metadata": {},
     "output_type": "execute_result"
    }
   ],
   "source": [
    "ny_home_games"
   ]
  },
  {
   "cell_type": "code",
   "execution_count": 83,
   "id": "6b85ced1-ed5e-4d2d-afc5-55541904bfde",
   "metadata": {},
   "outputs": [
    {
     "data": {
      "text/plain": [
       "7    2024-04-05\n",
       "8    2024-04-06\n",
       "9    2024-04-07\n",
       "10   2024-04-08\n",
       "11   2024-04-09\n",
       "        ...    \n",
       "75   2024-04-03\n",
       "77   2024-04-07\n",
       "79   2024-04-11\n",
       "80   2024-04-13\n",
       "81   2024-04-15\n",
       "Name: Date, Length: 307, dtype: datetime64[ns]"
      ]
     },
     "execution_count": 83,
     "metadata": {},
     "output_type": "execute_result"
    }
   ],
   "source": [
    "ny_home_games[\"Date\"]"
   ]
  },
  {
   "cell_type": "code",
   "execution_count": 84,
   "id": "caf4d702-12fd-44c0-80d7-8cb0a7a9bd60",
   "metadata": {},
   "outputs": [],
   "source": [
    "ny_home_games.to_csv(\"ny_home_games.csv\")"
   ]
  },
  {
   "cell_type": "code",
   "execution_count": null,
   "id": "7092cc10-7f3d-4567-9b87-9a0d0d3bad62",
   "metadata": {},
   "outputs": [],
   "source": []
  }
 ],
 "metadata": {
  "kernelspec": {
   "display_name": "Python 3 (ipykernel)",
   "language": "python",
   "name": "python3"
  },
  "language_info": {
   "codemirror_mode": {
    "name": "ipython",
    "version": 3
   },
   "file_extension": ".py",
   "mimetype": "text/x-python",
   "name": "python",
   "nbconvert_exporter": "python",
   "pygments_lexer": "ipython3",
   "version": "3.12.1"
  }
 },
 "nbformat": 4,
 "nbformat_minor": 5
}
